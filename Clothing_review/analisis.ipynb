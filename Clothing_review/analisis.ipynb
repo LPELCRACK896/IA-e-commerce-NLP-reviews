{
 "cells": [
  {
   "attachments": {},
   "cell_type": "markdown",
   "metadata": {},
   "source": [
    "# Analisis explorativo del dataset\n",
    "## Fuente\n",
    "https://www.kaggle.com/datasets/nicapotato/womens-ecommerce-clothing-reviews?resource=download\n",
    "## Variables\n",
    "- **Clothing ID**: Variable categórica entera que se refiere a la pieza específica que está siendo revisada.\n",
    "- **Age**: Variable entera positiva que representa la edad del revisor.\n",
    "- **Title**: Variable de texto que contiene el título de la reseña.\n",
    "- **Review Text**: Variable de texto que contiene el cuerpo de la reseña.\n",
    "- **Rating**:  Variable ordinal entera positiva que representa la puntuación del producto otorgada por el cliente, donde 1 es la peor y 5 es la mejor.\n",
    "- **Recommended IND**: Variable binaria que indica si el cliente recomienda el producto, donde 1 significa recomendado y 0 significa no recomendado.\n",
    "- **Positive Feedback Count**: Variable entera positiva que registra la cantidad de otros clientes que encontraron esta reseña positiva.\n",
    "- **Division Name**: Nombre categórico de alto nivel de la división del producto.\n",
    "- **Department Name**:  Nombre categórico del departamento del producto.\n",
    "- **Class Name**: Nombre categórico de la clase del producto.\n",
    "\n",
    " En este caso, el dataset ofrece tanto información del cliente, del producto y la reseña en si misma. Para el análisis con BERT solo interesa esta última división mencionada, que incluye, el *título*(title) como parte del contenido a analizar, el contenido de la reseña (review text), *Reccommended IND* que es un indicador del sentimiento de la reseña (positivo o negativo). "
   ]
  },
  {
   "attachments": {},
   "cell_type": "markdown",
   "metadata": {},
   "source": [
    "Cargamos data y vemos un resumen del dataframe"
   ]
  },
  {
   "cell_type": "code",
   "execution_count": 35,
   "metadata": {},
   "outputs": [
    {
     "name": "stdout",
     "output_type": "stream",
     "text": [
      "Información general del conjunto de datos:\n",
      "<class 'pandas.core.frame.DataFrame'>\n",
      "Index: 23486 entries, 0 to 23485\n",
      "Data columns (total 10 columns):\n",
      " #   Column                   Non-Null Count  Dtype \n",
      "---  ------                   --------------  ----- \n",
      " 0   Clothing ID              23486 non-null  int64 \n",
      " 1   Age                      23486 non-null  int64 \n",
      " 2   Title                    19676 non-null  object\n",
      " 3   Review Text              22641 non-null  object\n",
      " 4   Rating                   23486 non-null  int64 \n",
      " 5   Recommended IND          23486 non-null  int64 \n",
      " 6   Positive Feedback Count  23486 non-null  int64 \n",
      " 7   Division Name            23472 non-null  object\n",
      " 8   Department Name          23472 non-null  object\n",
      " 9   Class Name               23472 non-null  object\n",
      "dtypes: int64(5), object(5)\n",
      "memory usage: 2.0+ MB\n",
      "None\n"
     ]
    }
   ],
   "source": [
    "import pandas as pd\n",
    "import matplotlib.pyplot as plt\n",
    "import seaborn as sns\n",
    "import numpy as np\n",
    "\n",
    "data = pd.read_csv('./w_reviews.csv', index_col=0)\n",
    "print(\"Información general del conjunto de datos:\")\n",
    "print(data.info())"
   ]
  },
  {
   "attachments": {},
   "cell_type": "markdown",
   "metadata": {},
   "source": [
    "Dado que parte fundamental del análisis son las columnas title y review text, revisamos que todas tenga un contenido valido, y en todo caso contamos los valores nulos o  NaN. \n",
    "\n",
    "- Filas eliminadas 3811 (por valores nulos en titulo y review text)\n",
    "- Filas restantes: 19675 "
   ]
  },
  {
   "cell_type": "code",
   "execution_count": 36,
   "metadata": {},
   "outputs": [
    {
     "name": "stdout",
     "output_type": "stream",
     "text": [
      "Filas eliminadas 3811\n",
      "Filas restantes: 19675 \n"
     ]
    }
   ],
   "source": [
    "\n",
    "# Elimino las filas que no tienen un contenido para el review Text\n",
    "filas = data.shape[0]\n",
    "data.dropna(subset=['Title', 'Review Text'], inplace=True)\n",
    "print(f\"Filas eliminadas {filas-data.shape[0]}\\nFilas restantes: {data.shape[0]} \")\n",
    "\n"
   ]
  },
  {
   "cell_type": "code",
   "execution_count": 37,
   "metadata": {},
   "outputs": [
    {
     "name": "stdout",
     "output_type": "stream",
     "text": [
      "Text    0\n",
      "dtype: int64\n"
     ]
    }
   ],
   "source": [
    "data['Text'] = data['Title'].apply(str) + '. ' + data['Review Text'].apply(str)\n",
    "# Verificamos la eliminación anterior haya asegurado que no haya nulos en este campo\n",
    "print(data[['Text']].isnull().sum())"
   ]
  },
  {
   "attachments": {},
   "cell_type": "markdown",
   "metadata": {},
   "source": [
    "Dado que nuestra variable para evaluar es *Reccommended IND*. Debemos verificar que este balanceada en cuanto a sus valores."
   ]
  },
  {
   "cell_type": "code",
   "execution_count": 38,
   "metadata": {},
   "outputs": [
    {
     "name": "stdout",
     "output_type": "stream",
     "text": [
      "Datos positivos: 16100 (81.83%)\n",
      "Datos negativos: 3575 (18.17%)\n",
      "Datoa a eliminar para balancear: 12525 (63.66%)\n"
     ]
    }
   ],
   "source": [
    "recommended_counts = data['Recommended IND'].value_counts()\n",
    "positivo = recommended_counts[1]\n",
    "negativo = recommended_counts[0]\n",
    "total = data.shape[0]\n",
    "print(f\"Datos positivos: {positivo} ({100*positivo/total:.2f}%)\")\n",
    "print(f\"Datos negativos: {negativo} ({100*negativo/total:.2f}%)\")\n",
    "print(f\"Datoa a eliminar para balancear: {positivo-negativo} ({100*(positivo-negativo)/total:.2f}%)\")\n"
   ]
  },
  {
   "attachments": {},
   "cell_type": "markdown",
   "metadata": {},
   "source": [
    "El dataset está muy desbalanceado y para este dataset externo lo mejor sería eliminar datos de reviews positivos. Pero también implica perder hasta 63.66% de los datos. Lo hacemos para preparar el dataset pero un dataset con 6k tiene menos entrenamiento que el que ofrece el dataset original. "
   ]
  },
  {
   "cell_type": "code",
   "execution_count": 39,
   "metadata": {},
   "outputs": [],
   "source": [
    "def random_delete(dataset, num_filas, column, value):\n",
    "\n",
    "    to_delete = dataset[dataset[column] == value]\n",
    "\n",
    "    if num_filas > len(to_delete):\n",
    "        raise Exception('El número de filas para eliminar es mayor que las filas disponibles con ese valor.')\n",
    "\n",
    "    indices_to_delete = np.random.choice(to_delete.index, num_filas, replace=False)\n",
    "\n",
    "    dataset = dataset.drop(indices_to_delete)\n",
    "\n",
    "    return dataset\n",
    "data = random_delete(data, positivo-negativo, 'Recommended IND', 1)"
   ]
  },
  {
   "attachments": {},
   "cell_type": "markdown",
   "metadata": {},
   "source": [
    "Revisando el balance nuevamente..."
   ]
  },
  {
   "cell_type": "code",
   "execution_count": 40,
   "metadata": {},
   "outputs": [
    {
     "name": "stdout",
     "output_type": "stream",
     "text": [
      "Datos positivos: 3575 (50.00%)\n",
      "Datos negativos: 3575 (50.00%)\n",
      "Datoa a eliminar para balancear: 0 (0.00%)\n"
     ]
    }
   ],
   "source": [
    "recommended_counts = data['Recommended IND'].value_counts()\n",
    "positivo = recommended_counts[1]\n",
    "negativo = recommended_counts[0]\n",
    "total = data.shape[0]\n",
    "print(f\"Datos positivos: {positivo} ({100*positivo/total:.2f}%)\")\n",
    "print(f\"Datos negativos: {negativo} ({100*negativo/total:.2f}%)\")\n",
    "print(f\"Datoa a eliminar para balancear: {positivo-negativo} ({100*(positivo-negativo)/total:.2f}%)\")"
   ]
  },
  {
   "attachments": {},
   "cell_type": "markdown",
   "metadata": {},
   "source": [
    "Realizamos una revisión de largo del texto a analizar como referencia."
   ]
  },
  {
   "cell_type": "code",
   "execution_count": 41,
   "metadata": {},
   "outputs": [
    {
     "name": "stdout",
     "output_type": "stream",
     "text": [
      "Estadísticas de la longitud de textos:\n",
      "count    7150.000000\n",
      "mean      343.678741\n",
      "std       142.413054\n",
      "min        33.000000\n",
      "25%       225.000000\n",
      "50%       342.000000\n",
      "75%       500.000000\n",
      "max       558.000000\n",
      "Name: Text Length, dtype: float64\n"
     ]
    },
    {
     "data": {
      "image/png": "[encoded data removed]",
      "text/plain": [
       "<Figure size 1000x600 with 1 Axes>"
      ]
     },
     "metadata": {},
     "output_type": "display_data"
    }
   ],
   "source": [
    "data['Text Length'] = data['Text'].apply(lambda x: len(str(x)))\n",
    "print(\"Estadísticas de la longitud de textos:\")\n",
    "print(data['Text Length'].describe())\n",
    "\n",
    "plt.figure(figsize=(10,6))\n",
    "sns.histplot(data['Text Length'], bins=50, kde=True)\n",
    "plt.title('Distribución de la longitud de las revisiones')\n",
    "plt.show()"
   ]
  },
  {
   "attachments": {},
   "cell_type": "markdown",
   "metadata": {},
   "source": [
    "La estadística descriptiva parece indicar que son textos con suficiente contexto "
   ]
  }
 ],
 "metadata": {
  "kernelspec": {
   "display_name": "Python 3",
   "language": "python",
   "name": "python3"
  },
  "language_info": {
   "codemirror_mode": {
    "name": "ipython",
    "version": 3
   },
   "file_extension": ".py",
   "mimetype": "text/x-python",
   "name": "python",
   "nbconvert_exporter": "python",
   "pygments_lexer": "ipython3",
   "version": "3.11.3"
  },
  "orig_nbformat": 4
 },
 "nbformat": 4,
 "nbformat_minor": 2
}
